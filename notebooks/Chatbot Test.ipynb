{
 "cells": [
  {
   "cell_type": "markdown",
   "id": "60cc2509",
   "metadata": {},
   "source": [
    "This notebook accompanies the article [Building an Educational Chatbot for GraphAcademy with Neo4j Using LLMs and Vector Search\n",
    "](https://medium.com/neo4j/building-an-educational-chatbot-for-graphacademy-with-neo4j-f707c4ce311b).\n",
    "\n",
    "\n",
    "## Setup\n",
    "\n",
    "\n",
    "### Load Environment Variables \n",
    "\n",
    "Load the environment variables from `.env` to connect to the Neo4j instance and configure `openai`.  The `.env` file should contain the following settings:\n",
    "\n",
    "```env\n",
    "OPENAI_API_KEY=sk-...\n",
    "NEO4J_URI=neo4j+s://[dbhash].databases.neo4j.io\n",
    "NEO4J_USERNAME=neo4j\n",
    "NEO4J_PASSWORD=...\n",
    "```"
   ]
  },
  {
   "cell_type": "code",
   "execution_count": 2,
   "id": "a5cf8587",
   "metadata": {},
   "outputs": [],
   "source": [
    "%load_ext dotenv\n",
    "%dotenv"
   ]
  },
  {
   "cell_type": "code",
   "execution_count": 24,
   "id": "ba56d501",
   "metadata": {},
   "outputs": [
    {
     "data": {
      "text/plain": [
       "'neo4j'"
      ]
     },
     "execution_count": 24,
     "metadata": {},
     "output_type": "execute_result"
    }
   ],
   "source": [
    "import os \n",
    "import pandas as pd\n",
    "import json\n",
    "\n",
    "os.getenv('NEO4J_USERNAME')"
   ]
  },
  {
   "cell_type": "markdown",
   "id": "fcf26e6f",
   "metadata": {},
   "source": [
    "### Setup OpenAI\n",
    "\n",
    "Import the `openai` library and set the API Key."
   ]
  },
  {
   "cell_type": "code",
   "execution_count": 60,
   "id": "bab64a7d",
   "metadata": {},
   "outputs": [
    {
     "data": {
      "text/plain": [
       "'sk-'"
      ]
     },
     "execution_count": 60,
     "metadata": {},
     "output_type": "execute_result"
    }
   ],
   "source": [
    "import openai \n",
    "\n",
    "openai_model = os.getenv('OPENAI_MODEL', 'gpt-3.5-turbo')\n",
    "\n",
    "# Set the OpenAI API Key\n",
    "openai.api_key = os.getenv('OPENAI_API_KEY')\n",
    "\n",
    "openai.api_key[0:3]"
   ]
  },
  {
   "cell_type": "markdown",
   "id": "5fc99044",
   "metadata": {},
   "source": [
    "### Connect to Neo4j\n",
    "\n",
    "Create a Neo4j Driver instance and verify that the credentials supplied are correct."
   ]
  },
  {
   "cell_type": "code",
   "execution_count": 11,
   "id": "622d9b25",
   "metadata": {},
   "outputs": [],
   "source": [
    "from neo4j import GraphDatabase\n",
    "\n",
    "driver = GraphDatabase.driver(\n",
    "    os.getenv('NEO4J_URI'),\n",
    "    auth=(os.getenv('NEO4J_USERNAME'), os.getenv('NEO4J_PASSWORD'))\n",
    ")\n",
    "\n",
    "driver.verify_connectivity()"
   ]
  },
  {
   "cell_type": "markdown",
   "id": "2caefc7c",
   "metadata": {},
   "source": [
    "## Building a basic Chatbot\n",
    "\n",
    "Define a function to take a question and use the OpenAI Embeddings API to convert it into an embedding."
   ]
  },
  {
   "cell_type": "code",
   "execution_count": 26,
   "id": "275278f5",
   "metadata": {},
   "outputs": [],
   "source": [
    "def get_embedding(question):\n",
    "    chunks = openai.Embedding.create(\n",
    "        input=question, \n",
    "        model='text-embedding-ada-002'\n",
    "    )\n",
    "    \n",
    "    return chunks.data[0][\"embedding\"]"
   ]
  },
  {
   "cell_type": "markdown",
   "id": "0230915d",
   "metadata": {},
   "source": [
    "Create an embedding for the question _What is Cypher?_"
   ]
  },
  {
   "cell_type": "code",
   "execution_count": 41,
   "id": "5b6a440c",
   "metadata": {},
   "outputs": [
    {
     "data": {
      "text/plain": [
       "([0.006597098428755999,\n",
       "  0.003896713722497225,\n",
       "  -0.023041438311338425,\n",
       "  -0.018975302577018738,\n",
       "  -0.01728799380362034,\n",
       "  0.0009491108357906342,\n",
       "  -0.005922866519540548,\n",
       "  -0.0019276113016530871,\n",
       "  -0.0018567305523902178,\n",
       "  -0.02269567735493183],\n",
       " 1536)"
      ]
     },
     "execution_count": 41,
     "metadata": {},
     "output_type": "execute_result"
    }
   ],
   "source": [
    "embedding = get_embedding(\"What is Cypher?\")\n",
    "\n",
    "embedding[0:10], len(embedding)"
   ]
  },
  {
   "cell_type": "markdown",
   "id": "6510864c",
   "metadata": {},
   "source": [
    "Define a function to query the vector index in Neo4j to find _chunks_ in that have are similar embedding to a user input."
   ]
  },
  {
   "cell_type": "code",
   "execution_count": 49,
   "id": "3fb601cf",
   "metadata": {},
   "outputs": [],
   "source": [
    "def get_similar_chunks(embedding, limit = 3):\n",
    "    with driver.session() as session:\n",
    "        # Create a Unit of work to run a read statement in a read transaction\n",
    "        def query_index(tx, embedding, limit):\n",
    "            res = tx.run(\"\"\"\n",
    "                CALL db.index.vector.queryNodes('chatbot-embeddings', $limit, $embedding) \n",
    "                YIELD node, score\n",
    "                MATCH (node)<-[:HAS_SECTION]-(p)\n",
    "                RETURN \n",
    "                    p.title AS pageTitle, \n",
    "                    p.url AS pageUrl, \n",
    "                    node.title AS sectionTitle, \n",
    "                    node.url AS sectionUrl, \n",
    "                    node.text AS sectionText, \n",
    "                    score\n",
    "                ORDER BY score DESC \n",
    "            \"\"\", embedding=embedding, limit=limit)\n",
    "\n",
    "            # Get the results as a dict\n",
    "            return [dict(record) for record in res]\n",
    "\n",
    "        return session.execute_read(query_index, embedding=embedding, limit=limit)"
   ]
  },
  {
   "cell_type": "markdown",
   "id": "f237bbe9",
   "metadata": {},
   "source": [
    "Which sections in the database are the most similar to embedding?"
   ]
  },
  {
   "cell_type": "code",
   "execution_count": 50,
   "id": "ca11029d",
   "metadata": {},
   "outputs": [
    {
     "data": {
      "text/html": [
       "<div>\n",
       "<style scoped>\n",
       "    .dataframe tbody tr th:only-of-type {\n",
       "        vertical-align: middle;\n",
       "    }\n",
       "\n",
       "    .dataframe tbody tr th {\n",
       "        vertical-align: top;\n",
       "    }\n",
       "\n",
       "    .dataframe thead th {\n",
       "        text-align: right;\n",
       "    }\n",
       "</style>\n",
       "<table border=\"1\" class=\"dataframe\">\n",
       "  <thead>\n",
       "    <tr style=\"text-align: right;\">\n",
       "      <th></th>\n",
       "      <th>pageTitle</th>\n",
       "      <th>pageUrl</th>\n",
       "      <th>sectionTitle</th>\n",
       "      <th>sectionUrl</th>\n",
       "      <th>sectionText</th>\n",
       "      <th>score</th>\n",
       "    </tr>\n",
       "  </thead>\n",
       "  <tbody>\n",
       "    <tr>\n",
       "      <th>0</th>\n",
       "      <td>Introduction to Cypher</td>\n",
       "      <td>https://graphacademy.neo4j.com/courses/cypher-...</td>\n",
       "      <td>What is Cypher?</td>\n",
       "      <td>https://graphacademy.neo4j.com/courses/cypher-...</td>\n",
       "      <td>What is Cypher? - Cypher is a query language d...</td>\n",
       "      <td>0.941263</td>\n",
       "    </tr>\n",
       "    <tr>\n",
       "      <th>1</th>\n",
       "      <td>None</td>\n",
       "      <td>https://neo4j.com/docs/apoc/current/cypher-exe...</td>\n",
       "      <td>None</td>\n",
       "      <td>https://neo4j.com/docs/apoc/current/cypher-exe...</td>\n",
       "      <td>Cypher can be used as a safe, graph-aware, par...</td>\n",
       "      <td>0.937309</td>\n",
       "    </tr>\n",
       "    <tr>\n",
       "      <th>2</th>\n",
       "      <td>Benefits of Neo4j</td>\n",
       "      <td>https://graphacademy.neo4j.com/courses/adminis...</td>\n",
       "      <td>Optimized graph engine</td>\n",
       "      <td>https://graphacademy.neo4j.com/courses/adminis...</td>\n",
       "      <td>Optimized graph engine - \\n\\n\\n\\n\\nThe Neo4j g...</td>\n",
       "      <td>0.921910</td>\n",
       "    </tr>\n",
       "    <tr>\n",
       "      <th>3</th>\n",
       "      <td>Functions to Transform Element Types</td>\n",
       "      <td>https://graphacademy.neo4j.com/courses/cypher-...</td>\n",
       "      <td>Summary</td>\n",
       "      <td>https://graphacademy.neo4j.com/courses/cypher-...</td>\n",
       "      <td>Summary - In this lesson, you about the Cypher...</td>\n",
       "      <td>0.914596</td>\n",
       "    </tr>\n",
       "    <tr>\n",
       "      <th>4</th>\n",
       "      <td>The Neo4j Type System</td>\n",
       "      <td>https://graphacademy.neo4j.com/courses/app-jav...</td>\n",
       "      <td>Lesson Summary</td>\n",
       "      <td>https://graphacademy.neo4j.com/courses/app-jav...</td>\n",
       "      <td>Lesson Summary - In this lesson you have learn...</td>\n",
       "      <td>0.912985</td>\n",
       "    </tr>\n",
       "    <tr>\n",
       "      <th>5</th>\n",
       "      <td>The Neo4j Type System</td>\n",
       "      <td>https://graphacademy.neo4j.com/courses/app-dot...</td>\n",
       "      <td>Lesson Summary</td>\n",
       "      <td>https://graphacademy.neo4j.com/courses/app-dot...</td>\n",
       "      <td>Lesson Summary - In this lesson you have learn...</td>\n",
       "      <td>0.912952</td>\n",
       "    </tr>\n",
       "    <tr>\n",
       "      <th>6</th>\n",
       "      <td>Processing Results</td>\n",
       "      <td>https://graphacademy.neo4j.com/courses/app-jav...</td>\n",
       "      <td>Lesson Summary</td>\n",
       "      <td>https://graphacademy.neo4j.com/courses/app-jav...</td>\n",
       "      <td>Lesson Summary - You now have all the informat...</td>\n",
       "      <td>0.912521</td>\n",
       "    </tr>\n",
       "    <tr>\n",
       "      <th>7</th>\n",
       "      <td>Processing Results</td>\n",
       "      <td>https://graphacademy.neo4j.com/courses/app-dot...</td>\n",
       "      <td>Lesson Summary</td>\n",
       "      <td>https://graphacademy.neo4j.com/courses/app-dot...</td>\n",
       "      <td>Lesson Summary - You now have all the informat...</td>\n",
       "      <td>0.912521</td>\n",
       "    </tr>\n",
       "    <tr>\n",
       "      <th>8</th>\n",
       "      <td>Creating a Driver Instance</td>\n",
       "      <td>https://graphacademy.neo4j.com/courses/app-go/...</td>\n",
       "      <td>Lesson Summary</td>\n",
       "      <td>https://graphacademy.neo4j.com/courses/app-go/...</td>\n",
       "      <td>Lesson Summary - In this challenge, you used y...</td>\n",
       "      <td>0.912365</td>\n",
       "    </tr>\n",
       "    <tr>\n",
       "      <th>9</th>\n",
       "      <td>The @cypher Directive</td>\n",
       "      <td>https://graphacademy.neo4j.com/courses/graphql...</td>\n",
       "      <td>Summary</td>\n",
       "      <td>https://graphacademy.neo4j.com/courses/graphql...</td>\n",
       "      <td>Summary - In this lesson, you learned how to u...</td>\n",
       "      <td>0.912257</td>\n",
       "    </tr>\n",
       "  </tbody>\n",
       "</table>\n",
       "</div>"
      ],
      "text/plain": [
       "                              pageTitle  \\\n",
       "0                Introduction to Cypher   \n",
       "1                                  None   \n",
       "2                     Benefits of Neo4j   \n",
       "3  Functions to Transform Element Types   \n",
       "4                 The Neo4j Type System   \n",
       "5                 The Neo4j Type System   \n",
       "6                    Processing Results   \n",
       "7                    Processing Results   \n",
       "8            Creating a Driver Instance   \n",
       "9                 The @cypher Directive   \n",
       "\n",
       "                                             pageUrl            sectionTitle  \\\n",
       "0  https://graphacademy.neo4j.com/courses/cypher-...         What is Cypher?   \n",
       "1  https://neo4j.com/docs/apoc/current/cypher-exe...                    None   \n",
       "2  https://graphacademy.neo4j.com/courses/adminis...  Optimized graph engine   \n",
       "3  https://graphacademy.neo4j.com/courses/cypher-...                 Summary   \n",
       "4  https://graphacademy.neo4j.com/courses/app-jav...          Lesson Summary   \n",
       "5  https://graphacademy.neo4j.com/courses/app-dot...          Lesson Summary   \n",
       "6  https://graphacademy.neo4j.com/courses/app-jav...          Lesson Summary   \n",
       "7  https://graphacademy.neo4j.com/courses/app-dot...          Lesson Summary   \n",
       "8  https://graphacademy.neo4j.com/courses/app-go/...          Lesson Summary   \n",
       "9  https://graphacademy.neo4j.com/courses/graphql...                 Summary   \n",
       "\n",
       "                                          sectionUrl  \\\n",
       "0  https://graphacademy.neo4j.com/courses/cypher-...   \n",
       "1  https://neo4j.com/docs/apoc/current/cypher-exe...   \n",
       "2  https://graphacademy.neo4j.com/courses/adminis...   \n",
       "3  https://graphacademy.neo4j.com/courses/cypher-...   \n",
       "4  https://graphacademy.neo4j.com/courses/app-jav...   \n",
       "5  https://graphacademy.neo4j.com/courses/app-dot...   \n",
       "6  https://graphacademy.neo4j.com/courses/app-jav...   \n",
       "7  https://graphacademy.neo4j.com/courses/app-dot...   \n",
       "8  https://graphacademy.neo4j.com/courses/app-go/...   \n",
       "9  https://graphacademy.neo4j.com/courses/graphql...   \n",
       "\n",
       "                                         sectionText     score  \n",
       "0  What is Cypher? - Cypher is a query language d...  0.941263  \n",
       "1  Cypher can be used as a safe, graph-aware, par...  0.937309  \n",
       "2  Optimized graph engine - \\n\\n\\n\\n\\nThe Neo4j g...  0.921910  \n",
       "3  Summary - In this lesson, you about the Cypher...  0.914596  \n",
       "4  Lesson Summary - In this lesson you have learn...  0.912985  \n",
       "5  Lesson Summary - In this lesson you have learn...  0.912952  \n",
       "6  Lesson Summary - You now have all the informat...  0.912521  \n",
       "7  Lesson Summary - You now have all the informat...  0.912521  \n",
       "8  Lesson Summary - In this challenge, you used y...  0.912365  \n",
       "9  Summary - In this lesson, you learned how to u...  0.912257  "
      ]
     },
     "execution_count": 50,
     "metadata": {},
     "output_type": "execute_result"
    }
   ],
   "source": [
    "similar = get_similar_chunks(embedding, limit=10)\n",
    "\n",
    "pd.DataFrame(similar)"
   ]
  },
  {
   "cell_type": "markdown",
   "id": "cf145729",
   "metadata": {},
   "source": [
    "Define a function to pass these results to the OpenAI API."
   ]
  },
  {
   "cell_type": "code",
   "execution_count": 61,
   "id": "2a89922c",
   "metadata": {},
   "outputs": [],
   "source": [
    "def ask_question(question):\n",
    "    with driver.session() as session:\n",
    "        # Create an embedding\n",
    "        embedding = get_embedding(question)\n",
    "\n",
    "        # Get similar content to the embedding\n",
    "        context = get_similar_chunks(embedding)\n",
    "\n",
    "        # Define the LLM's role with system messages \n",
    "        messages = [\n",
    "          {\n",
    "            \"role\": \"system\", \n",
    "            \"content\": \"\"\"\n",
    "              You are a chatbot teaching users to how use Neo4j GraphAcademy.\n",
    "              Attempt to answer the users question with the context provided.\n",
    "              Respond in a short, but friendly way.\n",
    "              Use your knowledge to fill in any gaps.\n",
    "              If you cannot answer the question, ask for more clarification.\n",
    "\n",
    "              Provide a code sample if possible.\n",
    "              Also include a link to the sectionUrl.\n",
    "            \"\"\"\n",
    "          },\n",
    "          {\n",
    "            \"role\": \"assistant\", \n",
    "            \"content\": \"\"\"\n",
    "              Your Context:\n",
    "              {}\n",
    "            \"\"\".format(json.dumps(context))\n",
    "          },\n",
    "        ]\n",
    "\n",
    "\n",
    "        #  Append a message detailing what the user has asked.\n",
    "        messages.append(\n",
    "          {\n",
    "            \"role\": \"user\", \n",
    "            \"content\": \"\"\"\n",
    "              Answer the users question, wrapped in three backticks:\n",
    "\n",
    "              ```\n",
    "              {}\n",
    "              ```\n",
    "            \"\"\".format(question)\n",
    "          }\n",
    "        )\n",
    "\n",
    "        # Send the message to OpenAI\n",
    "        chat_completion = openai.ChatCompletion.create(model=openai_model, messages=messages)\n",
    "\n",
    "        return context, chat_completion.choices[0].message.content"
   ]
  },
  {
   "cell_type": "markdown",
   "id": "41137cfd",
   "metadata": {},
   "source": [
    "## Ask Questions\n",
    "\n",
    "Can the LLM answer some questions?"
   ]
  },
  {
   "cell_type": "code",
   "execution_count": 62,
   "id": "e14d670f",
   "metadata": {},
   "outputs": [
    {
     "data": {
      "text/plain": [
       "'The MATCH clause in Cypher is used to define the pattern in the graph that you would like to search for. It is used to retrieve data from the graph. You can think of it as similar to the FROM clause in an SQL statement. Here is an example of the MATCH clause in Cypher:\\n\\n```\\nMATCH (p:Person)\\nRETURN p\\n```\\n\\nThis query matches all nodes in the graph with the Person label and returns them. You can learn more about the MATCH clause in the Introduction to Cypher section of the GraphAcademy: [Introduction to Cypher](https://graphacademy.neo4j.com/courses/cypher-fundamentals/1-reading/1-intro-cypher/)'"
      ]
     },
     "execution_count": 62,
     "metadata": {},
     "output_type": "execute_result"
    }
   ],
   "source": [
    "context, answer = ask_question(\"What is the Cypher MATCH clause?\")\n",
    "\n",
    "answer"
   ]
  },
  {
   "cell_type": "markdown",
   "id": "0d60db3a",
   "metadata": {},
   "source": [
    "What pages were passed as context to the LLM in order to answer this question?"
   ]
  },
  {
   "cell_type": "code",
   "execution_count": 63,
   "id": "2887c473",
   "metadata": {},
   "outputs": [
    {
     "data": {
      "text/html": [
       "<div>\n",
       "<style scoped>\n",
       "    .dataframe tbody tr th:only-of-type {\n",
       "        vertical-align: middle;\n",
       "    }\n",
       "\n",
       "    .dataframe tbody tr th {\n",
       "        vertical-align: top;\n",
       "    }\n",
       "\n",
       "    .dataframe thead th {\n",
       "        text-align: right;\n",
       "    }\n",
       "</style>\n",
       "<table border=\"1\" class=\"dataframe\">\n",
       "  <thead>\n",
       "    <tr style=\"text-align: right;\">\n",
       "      <th></th>\n",
       "      <th>pageTitle</th>\n",
       "      <th>pageUrl</th>\n",
       "      <th>sectionTitle</th>\n",
       "      <th>sectionUrl</th>\n",
       "      <th>sectionText</th>\n",
       "      <th>score</th>\n",
       "    </tr>\n",
       "  </thead>\n",
       "  <tbody>\n",
       "    <tr>\n",
       "      <th>0</th>\n",
       "      <td>Introduction to Cypher</td>\n",
       "      <td>https://graphacademy.neo4j.com/courses/cypher-...</td>\n",
       "      <td>1. Read data</td>\n",
       "      <td>https://graphacademy.neo4j.com/courses/cypher-...</td>\n",
       "      <td>1. Read data - Which Cypher clause do you use ...</td>\n",
       "      <td>0.921759</td>\n",
       "    </tr>\n",
       "    <tr>\n",
       "      <th>1</th>\n",
       "      <td>Introduction to Cypher</td>\n",
       "      <td>https://graphacademy.neo4j.com/courses/cypher-...</td>\n",
       "      <td>What is Cypher?</td>\n",
       "      <td>https://graphacademy.neo4j.com/courses/cypher-...</td>\n",
       "      <td>What is Cypher? - Cypher is a query language d...</td>\n",
       "      <td>0.920465</td>\n",
       "    </tr>\n",
       "    <tr>\n",
       "      <th>2</th>\n",
       "      <td>Introduction to Cypher</td>\n",
       "      <td>https://graphacademy.neo4j.com/courses/cypher-...</td>\n",
       "      <td>2. Filtering</td>\n",
       "      <td>https://graphacademy.neo4j.com/courses/cypher-...</td>\n",
       "      <td>2. Filtering - What Cypher keyword can you use...</td>\n",
       "      <td>0.914499</td>\n",
       "    </tr>\n",
       "  </tbody>\n",
       "</table>\n",
       "</div>"
      ],
      "text/plain": [
       "                pageTitle                                            pageUrl  \\\n",
       "0  Introduction to Cypher  https://graphacademy.neo4j.com/courses/cypher-...   \n",
       "1  Introduction to Cypher  https://graphacademy.neo4j.com/courses/cypher-...   \n",
       "2  Introduction to Cypher  https://graphacademy.neo4j.com/courses/cypher-...   \n",
       "\n",
       "      sectionTitle                                         sectionUrl  \\\n",
       "0     1. Read data  https://graphacademy.neo4j.com/courses/cypher-...   \n",
       "1  What is Cypher?  https://graphacademy.neo4j.com/courses/cypher-...   \n",
       "2     2. Filtering  https://graphacademy.neo4j.com/courses/cypher-...   \n",
       "\n",
       "                                         sectionText     score  \n",
       "0  1. Read data - Which Cypher clause do you use ...  0.921759  \n",
       "1  What is Cypher? - Cypher is a query language d...  0.920465  \n",
       "2  2. Filtering - What Cypher keyword can you use...  0.914499  "
      ]
     },
     "execution_count": 63,
     "metadata": {},
     "output_type": "execute_result"
    }
   ],
   "source": [
    "pd.DataFrame(context)"
   ]
  },
  {
   "cell_type": "code",
   "execution_count": 65,
   "id": "0e7a2f6a",
   "metadata": {},
   "outputs": [
    {
     "name": "stderr",
     "output_type": "stream",
     "text": [
      "Failed to read from defunct connection ResolvedIPv4Address(('3.224.243.10', 7687)) (ResolvedIPv4Address(('3.224.243.10', 7687)))\n",
      "Failed to read from defunct connection ResolvedIPv4Address(('54.205.140.194', 7687)) (ResolvedIPv4Address(('54.205.140.194', 7687)))\n",
      "Failed to read from defunct connection ResolvedIPv4Address(('34.237.189.213', 7687)) (ResolvedIPv4Address(('34.237.189.213', 7687)))\n",
      "Failed to read from defunct connection IPv4Address(('p-41411cfe-6cb0af18-4.production-orch-0359.neo4j.io', 7687)) (ResolvedIPv4Address(('3.224.243.10', 7687)))\n",
      "Transaction failed and will be retried in 0.9492277910762981s (Failed to read from defunct connection IPv4Address(('p-41411cfe-6cb0af18-4.production-orch-0359.neo4j.io', 7687)) (ResolvedIPv4Address(('3.224.243.10', 7687))))\n",
      "Failed to read from defunct connection IPv4Address(('p-41411cfe-6cb0af18-5.production-orch-0359.neo4j.io', 7687)) (ResolvedIPv4Address(('52.21.223.250', 7687)))\n",
      "Transaction failed and will be retried in 2.394296786323612s (Failed to read from defunct connection IPv4Address(('p-41411cfe-6cb0af18-5.production-orch-0359.neo4j.io', 7687)) (ResolvedIPv4Address(('52.21.223.250', 7687))))\n"
     ]
    },
    {
     "data": {
      "text/plain": [
       "'To obtain a license for Neo4j Bloom, you can reach out to the Neo4j sales team through their website: [Neo4j Sales](https://neo4j.com/lp/sales-inquiry/) They will be able to provide you with all the necessary information and assistance in obtaining a license for Neo4j Bloom.'"
      ]
     },
     "execution_count": 65,
     "metadata": {},
     "output_type": "execute_result"
    }
   ],
   "source": [
    "_, answer = ask_question(\"How can I get a license for Neo4j Bloom?\")\n",
    "\n",
    "answer"
   ]
  },
  {
   "cell_type": "code",
   "execution_count": 66,
   "id": "31a5047a",
   "metadata": {},
   "outputs": [
    {
     "data": {
      "text/plain": [
       "\"To find the person who directed Toy Story, you can use the following Cypher query:\\n\\n```\\nMATCH (p:Person)-[:DIRECTED]->(:Movie {title: 'Toy Story'})\\nRETURN p.name AS Director\\n```\\n\\nThis query will return the name of the director of Toy Story.\""
      ]
     },
     "execution_count": 66,
     "metadata": {},
     "output_type": "execute_result"
    }
   ],
   "source": [
    "_, answer = ask_question(\"Write a query to find the person who directed Toy Story\")\n",
    "\n",
    "answer"
   ]
  },
  {
   "cell_type": "markdown",
   "id": "dc948b9e",
   "metadata": {},
   "source": [
    "## Comments, Questions, Feedback\n",
    "\n",
    "For any comments, questions or feedback contact [graphacademy@neo4j.com](mailto:graphacademy@neo4j.com)."
   ]
  }
 ],
 "metadata": {
  "kernelspec": {
   "display_name": "Python 3 (ipykernel)",
   "language": "python",
   "name": "python3"
  },
  "language_info": {
   "codemirror_mode": {
    "name": "ipython",
    "version": 3
   },
   "file_extension": ".py",
   "mimetype": "text/x-python",
   "name": "python",
   "nbconvert_exporter": "python",
   "pygments_lexer": "ipython3",
   "version": "3.10.8"
  }
 },
 "nbformat": 4,
 "nbformat_minor": 5
}
